{
 "cells": [
  {
   "cell_type": "markdown",
   "metadata": {},
   "source": [
    "# TIPE DATA SEQUENCE"
   ]
  },
  {
   "cell_type": "markdown",
   "metadata": {},
   "source": [
    "Tipe data sequence merupakan tipe data yang digunakan untuk menampung sekumpulan data secara terorganisir. Tipe data sequence diantaranya dalah list dan tupple. \n",
    "\n",
    "outline :\n",
    "🎯 List\n",
    "    - Apa itu list?\n",
    "    - Manipulasi tipe data list\n",
    "🎯 Tuple\n",
    "    - Apa itu Tuple?\n",
    "    - Manipulasi tipe data data Tuple "
   ]
  },
  {
   "cell_type": "markdown",
   "metadata": {},
   "source": [
    "# A. List"
   ]
  },
  {
   "cell_type": "markdown",
   "metadata": {},
   "source": [
    "### 1. Apa itu List?\n",
    "list berisi beberapa item baik itu berupa string, angka, atau keduanya. Item yang terdapat pada list disimpan dalam kurung siku [ ]"
   ]
  },
  {
   "cell_type": "code",
   "execution_count": null,
   "metadata": {},
   "outputs": [],
   "source": [
    "random = ['koin', 2, 'emas', 'buku'] #pada list terdapat berbagai jenis item dari mulai string dan angka/integer"
   ]
  },
  {
   "cell_type": "code",
   "execution_count": null,
   "metadata": {},
   "outputs": [],
   "source": [
    "books = ['self_improvement', \n",
    "         'science_fiction', \n",
    "         'romance'] "
   ]
  },
  {
   "cell_type": "code",
   "execution_count": null,
   "metadata": {
    "scrolled": true
   },
   "outputs": [],
   "source": [
    "books"
   ]
  },
  {
   "cell_type": "markdown",
   "metadata": {},
   "source": [
    "Setiap item pada list memiliki index tersendiri. dimulai dari 0 dari sisi kiri dan -1 dari sisi kanan. Untuk memanggil item tertentu kita bisa menyertakan indexnya"
   ]
  },
  {
   "cell_type": "code",
   "execution_count": null,
   "metadata": {},
   "outputs": [],
   "source": [
    "## item 'romance' pada list books berindex 2 atau -1\n",
    "print(books[2])\n",
    "print(books[-1])"
   ]
  },
  {
   "cell_type": "markdown",
   "metadata": {},
   "source": [
    "### 2. Manipulasi Tipe Data List"
   ]
  },
  {
   "cell_type": "markdown",
   "metadata": {},
   "source": [
    "Beberapa fitur yang bisa digunakan untuk memanipulasi list pada python "
   ]
  },
  {
   "cell_type": "markdown",
   "metadata": {},
   "source": [
    "a. index(), b. insert(), c. pop(), d. remove(), d. append(), e. reverse(), f. sort(), g. count()"
   ]
  },
  {
   "cell_type": "code",
   "execution_count": null,
   "metadata": {},
   "outputs": [],
   "source": [
    "''' index() \n",
    "Digunakan untuk mengembalikan nilai index dari elemen/item yang terdapat pada list'''\n",
    "books.index('romance') ## akan mengeluarkan output 2 yang merupakan index dari item 'romance' pada list books"
   ]
  },
  {
   "cell_type": "code",
   "execution_count": null,
   "metadata": {},
   "outputs": [],
   "source": [
    "books.index('self_improvement') #akan mengeluarkan index 0"
   ]
  },
  {
   "cell_type": "code",
   "execution_count": null,
   "metadata": {},
   "outputs": [],
   "source": [
    "''' insert()\n",
    "digunakan untuk menyisipkan elemen pada index/ posisi yang diinginkan\n",
    "menggunakan insert() : nama_list.insert(posisi/index, nilai)'''\n",
    "books.insert(0, 'mistery') #mistery akan muncul sebagai item dengan index 0 di list books"
   ]
  },
  {
   "cell_type": "code",
   "execution_count": null,
   "metadata": {},
   "outputs": [],
   "source": [
    "''' pop()\n",
    "digunakan untuk menghilangkan elemen dengan nilai tertentu\n",
    "menggunakan pop(): nama_list.pop(index)'''\n",
    "books.pop(1) #akan menghilangkan item dengan index 1 yaitu 'self_improvement'"
   ]
  },
  {
   "cell_type": "code",
   "execution_count": null,
   "metadata": {},
   "outputs": [],
   "source": [
    "''' remove ()\n",
    "menghilangkan elemen dengan nilai tertentu\n",
    "menggunakan remove : nama_variabel.remove(nilai)'''\n",
    "books.remove('romance')"
   ]
  },
  {
   "cell_type": "code",
   "execution_count": null,
   "metadata": {},
   "outputs": [],
   "source": [
    "''' append()\n",
    "digunakan untuk menambah item baru pada list'''\n",
    "books.append('comedy') #akan muncul item baru yaitu comedy"
   ]
  },
  {
   "cell_type": "code",
   "execution_count": null,
   "metadata": {},
   "outputs": [],
   "source": [
    "books.append('romance') #akan muncul item baru yaitu comedy"
   ]
  },
  {
   "cell_type": "code",
   "execution_count": null,
   "metadata": {},
   "outputs": [],
   "source": [
    "''' reverse()\n",
    "membalik urutan dari elemen yang terdapat pada list'''\n",
    "books.reverse()\n",
    "books"
   ]
  },
  {
   "cell_type": "code",
   "execution_count": null,
   "metadata": {},
   "outputs": [],
   "source": [
    "'''sort()\n",
    "Digunakan unutk mengurutkan elemen dari besar ke kecil.\n",
    "Kalau ingin dari kecil ke besar maka bisa menggunakan sort(reverse=True)'''\n",
    "books.sort()"
   ]
  },
  {
   "cell_type": "code",
   "execution_count": null,
   "metadata": {},
   "outputs": [],
   "source": [
    "books.sort(reverse=True) #akan memunculkan output urutannya dari kecil ke besar"
   ]
  },
  {
   "cell_type": "markdown",
   "metadata": {},
   "source": [
    "# B. Tuple"
   ]
  },
  {
   "cell_type": "markdown",
   "metadata": {},
   "source": [
    "### 1. Apa itu Tuple?\n",
    "Tipe data tuple juga berfungsi untuk menampung sekumpulan data. Item pada tipe data Tuple disimpan dalam tanda kurung ( ) dan setiap itemnya dipisahkan dengan tanda ( , ). Berbeda dengan tipe data list, tipe data tuple bersifat immutable yang berarti elemen pada tipe data tuple tidak dapat diubah setelah proses pendeklarasiannya."
   ]
  },
  {
   "cell_type": "code",
   "execution_count": null,
   "metadata": {},
   "outputs": [],
   "source": [
    "toko_buah = ('apel',\n",
    "            'jeruk',\n",
    "            'semangka',\n",
    "            'markisa')"
   ]
  },
  {
   "cell_type": "markdown",
   "metadata": {},
   "source": [
    "setiap elemen pada tuple memiliki index tersendiri dan setiap itemnya bisa dipanggil dengan menggunakan indexnya"
   ]
  },
  {
   "cell_type": "code",
   "execution_count": null,
   "metadata": {},
   "outputs": [],
   "source": [
    "toko_buah[3] #akan menghasilkan output 'markisa'"
   ]
  },
  {
   "cell_type": "code",
   "execution_count": null,
   "metadata": {},
   "outputs": [],
   "source": [
    "#saat mencoba untuk mengubah nilai elemen pada tupple akan menghasilkan error\n",
    "toko_buah[0] = 'markisa'"
   ]
  },
  {
   "cell_type": "markdown",
   "metadata": {},
   "source": [
    "### 2. Manipulasi Tipe Data Tuple\n",
    "terdapat beberapa fitur yang bisa digunakan untuk memanipulasi nilai tuple\n"
   ]
  },
  {
   "cell_type": "markdown",
   "metadata": {},
   "source": [
    "a. count(), b. index()"
   ]
  },
  {
   "cell_type": "code",
   "execution_count": null,
   "metadata": {},
   "outputs": [],
   "source": [
    "''' count()\n",
    "Digunakan untuk menghitung jumlah kemunculan item dalam tuple'''\n",
    "toko_sayur = ('sawi',\n",
    "             'kangkung',\n",
    "             'bayam',\n",
    "             'sawi',\n",
    "             'bayam',\n",
    "             'wortel',\n",
    "             'wortel',\n",
    "             'sawi')\n",
    "toko_sayur.count('sawi') #akan memunculkan berapa banyak item sawi dalam tuple toko_sayur"
   ]
  },
  {
   "cell_type": "code",
   "execution_count": null,
   "metadata": {},
   "outputs": [],
   "source": [
    "toko_sayur.count('wortel')"
   ]
  },
  {
   "cell_type": "code",
   "execution_count": null,
   "metadata": {},
   "outputs": [],
   "source": [
    "''' index()\n",
    "Digunakan untuk menunjukkan index dari nilai pada tuple'''\n",
    "toko_sayur.index('sawi')"
   ]
  }
 ],
 "metadata": {
  "kernelspec": {
   "display_name": "Python 3",
   "language": "python",
   "name": "python3"
  },
  "language_info": {
   "codemirror_mode": {
    "name": "ipython",
    "version": 3
   },
   "file_extension": ".py",
   "mimetype": "text/x-python",
   "name": "python",
   "nbconvert_exporter": "python",
   "pygments_lexer": "ipython3",
   "version": "3.8.5"
  }
 },
 "nbformat": 4,
 "nbformat_minor": 4
}
