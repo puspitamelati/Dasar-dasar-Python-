{
 "cells": [
  {
   "cell_type": "markdown",
   "metadata": {},
   "source": [
    "# List"
   ]
  },
  {
   "cell_type": "markdown",
   "metadata": {},
   "source": [
    "### 1. Apa itu list?\n",
    "list berisi beberapa item baik itu berupa string, angka, atau keduanya. Item yang terdapat pada list disimpan dalam kurung siku [ ]"
   ]
  },
  {
   "cell_type": "code",
   "execution_count": 41,
   "metadata": {},
   "outputs": [],
   "source": [
    "random = ['koin', 2, 'emas', 'buku']"
   ]
  },
  {
   "cell_type": "code",
   "execution_count": 42,
   "metadata": {},
   "outputs": [
    {
     "data": {
      "text/plain": [
       "['koin', 2, 'emas', 'buku']"
      ]
     },
     "execution_count": 42,
     "metadata": {},
     "output_type": "execute_result"
    }
   ],
   "source": [
    "random"
   ]
  },
  {
   "cell_type": "code",
   "execution_count": 43,
   "metadata": {},
   "outputs": [],
   "source": [
    "books = ['self_improvement', \n",
    "         'science_fiction', \n",
    "         'romance'] "
   ]
  },
  {
   "cell_type": "code",
   "execution_count": 44,
   "metadata": {},
   "outputs": [
    {
     "data": {
      "text/plain": [
       "['self_improvement', 'science_fiction', 'romance']"
      ]
     },
     "execution_count": 44,
     "metadata": {},
     "output_type": "execute_result"
    }
   ],
   "source": [
    "books"
   ]
  },
  {
   "cell_type": "markdown",
   "metadata": {},
   "source": [
    "Setiap item pada list memiliki index tersendiri. dimulai dari 0 dari sisi kiri dan -1 dari sisi kanan. Untuk memanggil item tertentu kita bisa menyertakan indexnya"
   ]
  },
  {
   "cell_type": "code",
   "execution_count": 45,
   "metadata": {},
   "outputs": [
    {
     "name": "stdout",
     "output_type": "stream",
     "text": [
      "romance\n",
      "romance\n"
     ]
    }
   ],
   "source": [
    "## item 'romance' pada list books berindex 2 atau -1\n",
    "print(books[2])\n",
    "print(books[-1])"
   ]
  },
  {
   "cell_type": "markdown",
   "metadata": {},
   "source": [
    "### 2. Manipulasi pada List"
   ]
  },
  {
   "cell_type": "markdown",
   "metadata": {},
   "source": [
    "Beberapa fitur yang bisa digunakan untuk memanipulasi list pada python "
   ]
  },
  {
   "cell_type": "markdown",
   "metadata": {},
   "source": [
    "a. index(), b. insert(), c. pop(), d. remove(), d. append(), e. reverse(), f. sort(), g. count()"
   ]
  },
  {
   "cell_type": "code",
   "execution_count": 46,
   "metadata": {},
   "outputs": [
    {
     "data": {
      "text/plain": [
       "2"
      ]
     },
     "execution_count": 46,
     "metadata": {},
     "output_type": "execute_result"
    }
   ],
   "source": [
    "''' index() \n",
    "Digunakan untuk mengembalikan nilai index dari elemen/item yang terdapat pada list'''\n",
    "books.index('romance') ## akan mengeluarkan output 2 yang merupakan index dari item 'romance' pada list books"
   ]
  },
  {
   "cell_type": "code",
   "execution_count": 47,
   "metadata": {},
   "outputs": [
    {
     "data": {
      "text/plain": [
       "0"
      ]
     },
     "execution_count": 47,
     "metadata": {},
     "output_type": "execute_result"
    }
   ],
   "source": [
    "books.index('self_improvement') #akan mengeluarkan index 0"
   ]
  },
  {
   "cell_type": "code",
   "execution_count": 48,
   "metadata": {},
   "outputs": [
    {
     "data": {
      "text/plain": [
       "['mistery', 'self_improvement', 'science_fiction', 'romance']"
      ]
     },
     "execution_count": 48,
     "metadata": {},
     "output_type": "execute_result"
    }
   ],
   "source": [
    "''' insert()\n",
    "digunakan untuk menyisipkan elemen pada index/ posisi yang diinginkan\n",
    "menggunakan insert() : nama_list.insert(posisi/index, nilai)'''\n",
    "books.insert(0, 'mistery') #mistery akan muncul sebagai item dengan index 0 di list books\n",
    "books"
   ]
  },
  {
   "cell_type": "code",
   "execution_count": 49,
   "metadata": {},
   "outputs": [
    {
     "data": {
      "text/plain": [
       "['mistery', 'science_fiction', 'romance']"
      ]
     },
     "execution_count": 49,
     "metadata": {},
     "output_type": "execute_result"
    }
   ],
   "source": [
    "''' pop()\n",
    "digunakan untuk menghilangkan elemen dengan nilai tertentu\n",
    "menggunakan pop(): nama_list.pop(index)'''\n",
    "books.pop(1) #akan menghilangkan item dengan index 1 yaitu 'self_improvement'\n",
    "books"
   ]
  },
  {
   "cell_type": "code",
   "execution_count": 50,
   "metadata": {},
   "outputs": [
    {
     "data": {
      "text/plain": [
       "['mistery', 'science_fiction']"
      ]
     },
     "execution_count": 50,
     "metadata": {},
     "output_type": "execute_result"
    }
   ],
   "source": [
    "''' remove ()\n",
    "menghilangkan elemen dengan nilai tertentu\n",
    "menggunakan remove : nama_variabel.remove(nilai)'''\n",
    "books.remove('romance')\n",
    "books"
   ]
  },
  {
   "cell_type": "code",
   "execution_count": 52,
   "metadata": {},
   "outputs": [],
   "source": [
    "''' append()\n",
    "digunakan untuk menambah item baru pada list'''\n",
    "books.append('comedy') #akan muncul item baru yaitu comedy"
   ]
  },
  {
   "cell_type": "code",
   "execution_count": 53,
   "metadata": {},
   "outputs": [
    {
     "data": {
      "text/plain": [
       "['mistery', 'science_fiction', 'comedy']"
      ]
     },
     "execution_count": 53,
     "metadata": {},
     "output_type": "execute_result"
    }
   ],
   "source": [
    "books"
   ]
  },
  {
   "cell_type": "code",
   "execution_count": 54,
   "metadata": {},
   "outputs": [],
   "source": [
    "books.append('romance')"
   ]
  },
  {
   "cell_type": "code",
   "execution_count": 55,
   "metadata": {},
   "outputs": [
    {
     "data": {
      "text/plain": [
       "['mistery', 'science_fiction', 'comedy', 'romance']"
      ]
     },
     "execution_count": 55,
     "metadata": {},
     "output_type": "execute_result"
    }
   ],
   "source": [
    "books"
   ]
  },
  {
   "cell_type": "code",
   "execution_count": 57,
   "metadata": {},
   "outputs": [
    {
     "data": {
      "text/plain": [
       "['romance', 'comedy', 'science_fiction', 'mistery']"
      ]
     },
     "execution_count": 57,
     "metadata": {},
     "output_type": "execute_result"
    }
   ],
   "source": [
    "''' reverse()\n",
    "membalik urutan dari elemen yang terdapat pada list'''\n",
    "books.reverse()\n",
    "books"
   ]
  },
  {
   "cell_type": "code",
   "execution_count": 58,
   "metadata": {},
   "outputs": [
    {
     "data": {
      "text/plain": [
       "['comedy', 'mistery', 'romance', 'science_fiction']"
      ]
     },
     "execution_count": 58,
     "metadata": {},
     "output_type": "execute_result"
    }
   ],
   "source": [
    "'''sort()\n",
    "Digunakan unutk mengurutkan elemen dari besar ke kecil.\n",
    "Kalau ingin dari kecil ke besar maka bisa menggunakan sort(reverse=True)'''\n",
    "books.sort()\n",
    "books"
   ]
  },
  {
   "cell_type": "code",
   "execution_count": 59,
   "metadata": {},
   "outputs": [],
   "source": [
    "books.sort(reverse=True)"
   ]
  },
  {
   "cell_type": "code",
   "execution_count": 60,
   "metadata": {},
   "outputs": [
    {
     "data": {
      "text/plain": [
       "['science_fiction', 'romance', 'mistery', 'comedy']"
      ]
     },
     "execution_count": 60,
     "metadata": {},
     "output_type": "execute_result"
    }
   ],
   "source": [
    "books"
   ]
  },
  {
   "cell_type": "markdown",
   "metadata": {},
   "source": [
    "# Tuple"
   ]
  },
  {
   "cell_type": "markdown",
   "metadata": {},
   "source": [
    "### Apa itu Tuple?\n",
    "Tipe data tuple juga berfungsi untuk menampung sekumpulan data. Item pada tipe data Tuple disimpan dalam tanda kurung ( ) dan setiap itemnya dipisahkan dengan tanda ( , ). Berbeda dengan tipe data list, tipe data tuple bersifat immutable yang berarti elemen pada tipe data tuple tidak dapat diubah setelah proses pendeklarasiannya."
   ]
  },
  {
   "cell_type": "code",
   "execution_count": 61,
   "metadata": {},
   "outputs": [],
   "source": [
    "toko_buah = ('apel',\n",
    "            'jeruk',\n",
    "            'semangka',\n",
    "            'markisa')"
   ]
  },
  {
   "cell_type": "code",
   "execution_count": 62,
   "metadata": {},
   "outputs": [
    {
     "data": {
      "text/plain": [
       "('apel', 'jeruk', 'semangka', 'markisa')"
      ]
     },
     "execution_count": 62,
     "metadata": {},
     "output_type": "execute_result"
    }
   ],
   "source": [
    "toko_buah"
   ]
  },
  {
   "cell_type": "markdown",
   "metadata": {},
   "source": [
    "setiap elemen pada tuple memiliki index tersendiri dan setiap itemnya bisa dipanggil dengan menggunakan indexnya"
   ]
  },
  {
   "cell_type": "code",
   "execution_count": 64,
   "metadata": {},
   "outputs": [
    {
     "data": {
      "text/plain": [
       "'markisa'"
      ]
     },
     "execution_count": 64,
     "metadata": {},
     "output_type": "execute_result"
    }
   ],
   "source": [
    "toko_buah[3] #akan menghasilkan output 'markisa'"
   ]
  },
  {
   "cell_type": "code",
   "execution_count": 63,
   "metadata": {},
   "outputs": [
    {
     "ename": "TypeError",
     "evalue": "'tuple' object does not support item assignment",
     "output_type": "error",
     "traceback": [
      "\u001b[1;31m---------------------------------------------------------------------------\u001b[0m",
      "\u001b[1;31mTypeError\u001b[0m                                 Traceback (most recent call last)",
      "\u001b[1;32m<ipython-input-63-f91d26a5aed1>\u001b[0m in \u001b[0;36m<module>\u001b[1;34m\u001b[0m\n\u001b[0;32m      1\u001b[0m \u001b[1;31m#saat mencoba untuk mengubah nilai elemen pada tupple akan menghasilkan error\u001b[0m\u001b[1;33m\u001b[0m\u001b[1;33m\u001b[0m\u001b[1;33m\u001b[0m\u001b[0m\n\u001b[1;32m----> 2\u001b[1;33m \u001b[0mtoko_buah\u001b[0m\u001b[1;33m[\u001b[0m\u001b[1;36m0\u001b[0m\u001b[1;33m]\u001b[0m \u001b[1;33m=\u001b[0m \u001b[1;34m'markisa'\u001b[0m\u001b[1;33m\u001b[0m\u001b[1;33m\u001b[0m\u001b[0m\n\u001b[0m",
      "\u001b[1;31mTypeError\u001b[0m: 'tuple' object does not support item assignment"
     ]
    }
   ],
   "source": [
    "#saat mencoba untuk mengubah nilai elemen pada tupple akan menghasilkan error\n",
    "toko_buah[0] = 'markisa'"
   ]
  },
  {
   "cell_type": "markdown",
   "metadata": {},
   "source": [
    "### 2. Manipulasi pada Tuple\n",
    "terdapat beberapa fitur yang bisa digunakan untuk memanipulasi nilai tuple\n"
   ]
  },
  {
   "cell_type": "markdown",
   "metadata": {},
   "source": [
    "a. count(), b. index()"
   ]
  },
  {
   "cell_type": "code",
   "execution_count": 71,
   "metadata": {},
   "outputs": [
    {
     "data": {
      "text/plain": [
       "3"
      ]
     },
     "execution_count": 71,
     "metadata": {},
     "output_type": "execute_result"
    }
   ],
   "source": [
    "''' count()\n",
    "Digunakan untuk menghitung jumlah kemunculan item dalam tuple'''\n",
    "toko_sayur = ('sawi',\n",
    "             'kangkung',\n",
    "             'bayam',\n",
    "             'sawi',\n",
    "             'bayam',\n",
    "             'wortel',\n",
    "             'wortel',\n",
    "             'sawi')\n",
    "toko_sayur.count('sawi') #akan memunculkan berapa banyak item sawi dalam tuple toko_sayur"
   ]
  },
  {
   "cell_type": "code",
   "execution_count": 70,
   "metadata": {},
   "outputs": [
    {
     "data": {
      "text/plain": [
       "2"
      ]
     },
     "execution_count": 70,
     "metadata": {},
     "output_type": "execute_result"
    }
   ],
   "source": [
    "toko_sayur.count('wortel')"
   ]
  },
  {
   "cell_type": "code",
   "execution_count": 72,
   "metadata": {},
   "outputs": [
    {
     "data": {
      "text/plain": [
       "0"
      ]
     },
     "execution_count": 72,
     "metadata": {},
     "output_type": "execute_result"
    }
   ],
   "source": [
    "''' index()\n",
    "Digunakan untuk menunjukkan index dari nilai pada tuple'''\n",
    "toko_sayur.index('sawi')"
   ]
  }
 ],
 "metadata": {
  "kernelspec": {
   "display_name": "Python 3",
   "language": "python",
   "name": "python3"
  },
  "language_info": {
   "codemirror_mode": {
    "name": "ipython",
    "version": 3
   },
   "file_extension": ".py",
   "mimetype": "text/x-python",
   "name": "python",
   "nbconvert_exporter": "python",
   "pygments_lexer": "ipython3",
   "version": "3.8.5"
  }
 },
 "nbformat": 4,
 "nbformat_minor": 4
}
