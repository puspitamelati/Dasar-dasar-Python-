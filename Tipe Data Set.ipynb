{
 "cells": [
  {
   "cell_type": "markdown",
   "metadata": {},
   "source": [
    "# Tipe Data Set"
   ]
  },
  {
   "cell_type": "markdown",
   "metadata": {},
   "source": [
    "## A. Apa itu Tipe Data Set?"
   ]
  },
  {
   "cell_type": "markdown",
   "metadata": {},
   "source": [
    "tipe data set merupakan tipe data yang mengandung beberapa elemen. elemen dalam set tidak tersusun dan tidak memiliki index. set ditulis dengan menggunakan kurung kurawal { }"
   ]
  },
  {
   "cell_type": "code",
   "execution_count": null,
   "metadata": {},
   "outputs": [],
   "source": [
    "#Membuat Tipe Data Set\n",
    "Books = {\"Romance\", \"Scifi\", \"Self_improve\",\"Science_pop\"}"
   ]
  },
  {
   "cell_type": "code",
   "execution_count": null,
   "metadata": {},
   "outputs": [],
   "source": [
    "#Mencetak Tipe Data Set\n",
    "print(Books)"
   ]
  },
  {
   "cell_type": "markdown",
   "metadata": {},
   "source": [
    "## 2. Manipulasi Tipe Data Set"
   ]
  },
  {
   "cell_type": "markdown",
   "metadata": {},
   "source": [
    "terdapat beberapa fitur yang bisa digunakan untuk manipulasi data set\n",
    "* add()     \n",
    "* copy ()   \n",
    "* clear()\n",
    "* update()\n",
    "* pop()\n",
    "* pop()\n",
    "* union()\n",
    "* remove()\n",
    "* issubset()\n",
    "* issupperset()\n",
    "* isdisjoin()\n",
    "* intersection()\n",
    "* difference()\n",
    "* simetric_difference()"
   ]
  },
  {
   "cell_type": "code",
   "execution_count": null,
   "metadata": {},
   "outputs": [],
   "source": [
    "''' add()\n",
    "digunakana untuk menambahkan data ke set'''\n",
    "Books.add('History') #menambahkan History pada set Books"
   ]
  },
  {
   "cell_type": "markdown",
   "metadata": {},
   "source": [
    "<div class=\"alert alert-block alert-success\">\n",
    "<b>Output:</b> \n",
    "<br> {'History', 'Romance', 'Science_pop', 'Scifi', 'Self_improve'}\n",
    "</div>"
   ]
  },
  {
   "cell_type": "code",
   "execution_count": null,
   "metadata": {
    "scrolled": true
   },
   "outputs": [],
   "source": [
    "''' copy()\n",
    "digunkan untuk menduplikat nilai pada set. set hasil duplikat tidak akan mempengaruhi set yang diduplikat'''\n",
    "New_books = Books.copy()\n",
    "print(New_books)"
   ]
  },
  {
   "cell_type": "markdown",
   "metadata": {},
   "source": [
    "<div class=\"alert alert-block alert-success\">\n",
    "<b>Output:</b> <br>{'Science_pop', 'Self_improve', 'Romance', 'History', 'Scifi'}\n",
    "</div>"
   ]
  },
  {
   "cell_type": "code",
   "execution_count": null,
   "metadata": {
    "scrolled": true
   },
   "outputs": [],
   "source": [
    "#menambahkan nilai pada New_books\n",
    "New_books.add('children')\n",
    "print(New_books)\n",
    "print(Books) #nilai pada set Books tidak akan berubah walapun New_books diubah"
   ]
  },
  {
   "cell_type": "markdown",
   "metadata": {},
   "source": [
    "<div class=\"alert alert-block alert-success\">\n",
    "<b>output:</b> \n",
    "<br>\n",
    "{'Science_pop', 'Self_improve', 'Romance', 'History', 'children', 'Scifi'}\n",
    "<br>\n",
    "{'Self_improve', 'History', 'Romance', 'Scifi', 'Science_pop'}\n",
    "</div>"
   ]
  },
  {
   "cell_type": "code",
   "execution_count": null,
   "metadata": {},
   "outputs": [],
   "source": [
    "''' clear()\n",
    "digunakan untuk menghapus semua elemen dalam set'''\n",
    "New_books.clear()\n",
    "print(New_books)"
   ]
  },
  {
   "cell_type": "markdown",
   "metadata": {},
   "source": [
    "<div class=\"alert alert-block alert-success\">\n",
    "<b>output:</b> \n",
    "<br>\n",
    "set()\n",
    "</div>"
   ]
  },
  {
   "cell_type": "code",
   "execution_count": null,
   "metadata": {},
   "outputs": [],
   "source": [
    "'''pop()\n",
    "menghilangkan elemen pada set secara acak'''\n",
    "print(Books)"
   ]
  },
  {
   "cell_type": "markdown",
   "metadata": {},
   "source": [
    "<div class=\"alert alert-block alert-success\">\n",
    "<b>output:</b> \n",
    "<br>\n",
    "{'Self_improve', 'History', 'Romance', 'Scifi', 'Science_pop'}\n",
    "</div>"
   ]
  },
  {
   "cell_type": "code",
   "execution_count": null,
   "metadata": {
    "scrolled": true
   },
   "outputs": [],
   "source": [
    "Books.pop() #akan menghasilkan elemen yang dihapus pada set"
   ]
  },
  {
   "cell_type": "markdown",
   "metadata": {},
   "source": [
    "<div class=\"alert alert-block alert-success\">\n",
    "<b>output:</b> \n",
    "<br>\n",
    "'Self_improve'\n",
    "</div>"
   ]
  },
  {
   "cell_type": "code",
   "execution_count": null,
   "metadata": {},
   "outputs": [],
   "source": [
    "print(Books) #elemen 'Self_improve' tidak akan keluar pada set Books"
   ]
  },
  {
   "cell_type": "markdown",
   "metadata": {},
   "source": [
    "<div class=\"alert alert-block alert-success\">\n",
    "<b>output:</b> \n",
    "<br>\n",
    "{'History', 'Romance', 'Scifi', 'Science_pop'}\n",
    "<div>"
   ]
  },
  {
   "cell_type": "code",
   "execution_count": null,
   "metadata": {},
   "outputs": [],
   "source": [
    "'''remove()\n",
    "menghilangkan elemen tertentu dari set'''\n",
    "Books.remove('Romance') #elemen Romance akan hilang\n",
    "print(Books)"
   ]
  },
  {
   "cell_type": "markdown",
   "metadata": {},
   "source": [
    "<div class=\"alert alert-block alert-success\">\n",
    "<b>output:</b> \n",
    "<br>\n",
    "{'History', 'Scifi', 'Science_pop'}\n",
    "<div>"
   ]
  },
  {
   "cell_type": "code",
   "execution_count": null,
   "metadata": {},
   "outputs": [],
   "source": [
    "'''union()\n",
    "menggabungkan dua set tanpa mengubah nilai. Nilai dari masing-masing set digabung menjadi satu'''\n",
    "#membuat set baru\n",
    "Books_2 = {'Cook','Children','Manga'}\n",
    "data = Books.union(Books_2)\n",
    "print(data) #gabungan dari set Books dan Books_2"
   ]
  },
  {
   "cell_type": "markdown",
   "metadata": {},
   "source": [
    "<div class=\"alert alert-block alert-success\">\n",
    "<b>output:</b> \n",
    "<br>\n",
    "{'Science_pop', 'Manga', 'Cook', 'History', 'Scifi', 'Children'}\n",
    "<div>"
   ]
  },
  {
   "cell_type": "code",
   "execution_count": null,
   "metadata": {},
   "outputs": [],
   "source": [
    "'''issubset() dan issuperset()\n",
    "issubset() : A.issubset(B) >> TRUE :menunjukkan kalau semua\n",
    "elemen pada A ada di B\n",
    "                              FALSE : kalai elemen pada A tidak ada di B\n",
    "issuperset() : A.issuperset(B)>> TRUE : kalau semua nilai di B ada di A\n",
    "                                 False : kalai gak semua elemen B ada di A'''"
   ]
  },
  {
   "cell_type": "code",
   "execution_count": null,
   "metadata": {},
   "outputs": [],
   "source": [
    "A = {2,3,6}\n",
    "B = {2,3,6,1,4,6,7}\n",
    "print(A.issubset(B)) #akan menghasilkan TRUE\n",
    "print(B.issuperset(A)) #akan menghasilkan TRUE"
   ]
  },
  {
   "cell_type": "markdown",
   "metadata": {},
   "source": [
    "<div class=\"alert alert-block alert-success\">\n",
    "<b>output:</b> \n",
    "<br>\n",
    "True\n",
    "<br>\n",
    "True\n",
    "<div>"
   ]
  },
  {
   "cell_type": "code",
   "execution_count": null,
   "metadata": {},
   "outputs": [],
   "source": [
    "'''isdisjoint()\n",
    "mengembalikan nilai kebenaran kalau dua set tersebut saling lepas\n",
    "TRUE : kalau dalam dua set tersebut tidak ada elemen yang sama\n",
    "FALSE : kalau ada elemen yang sama'''\n",
    "C = {4,5,6,7}\n",
    "D = {1,2,4,5,6}\n",
    "E = {0,9}\n",
    "\n",
    "print(C.isdisjoint(D))\n",
    "print(D.isdisjoint(E))"
   ]
  },
  {
   "cell_type": "markdown",
   "metadata": {},
   "source": [
    "<div class=\"alert alert-block alert-success\">\n",
    "<b>output:</b> \n",
    "<br>\n",
    "False\n",
    "<br>\n",
    "True\n",
    "<div>"
   ]
  },
  {
   "cell_type": "code",
   "execution_count": null,
   "metadata": {},
   "outputs": [],
   "source": [
    "'''intersection()\n",
    "mengembalikan nilai yang sama dari dua set'''\n",
    "C = {4,5,6,7}\n",
    "D = {1,2,4,5,6}\n",
    "print(C.intersection(D))"
   ]
  },
  {
   "cell_type": "markdown",
   "metadata": {},
   "source": [
    "<div class=\"alert alert-block alert-success\">\n",
    "<b>output:</b> \n",
    "<br>\n",
    "{4, 5, 6}\n",
    "<div>"
   ]
  },
  {
   "cell_type": "code",
   "execution_count": null,
   "metadata": {},
   "outputs": [],
   "source": [
    "'''difference()\n",
    "mengembalikan nilai yang tidak ada di set yang lain\n",
    "C.difference(C) : elemen C yang tidak ada di D'''\n",
    "C = {4,5,6,7}\n",
    "D = {1,2,4,5,6}\n",
    "print(C.difference(D))"
   ]
  },
  {
   "cell_type": "markdown",
   "metadata": {},
   "source": [
    "<div class=\"alert alert-block alert-success\">\n",
    "<b>output:</b> \n",
    "<br>\n",
    "{7}\n",
    "<div>"
   ]
  },
  {
   "cell_type": "code",
   "execution_count": null,
   "metadata": {},
   "outputs": [],
   "source": [
    "'''symmetric_difference()\n",
    "menggabungkan nilai yang tidak ada di masing-masing set'''\n",
    "C = {4,5,6,7}\n",
    "D = {1,2,4,5,6}\n",
    "print(C.symmetric_difference(D))"
   ]
  },
  {
   "cell_type": "markdown",
   "metadata": {},
   "source": [
    "<div class=\"alert alert-block alert-success\">\n",
    "<b>output:</b> \n",
    "<br>\n",
    "{1, 2, 7} <br>\n",
    "elemen C yang tidak ada di D : 1 <br>\n",
    "elemen D yang tidak ada di C : 2,7\n",
    "<div>"
   ]
  }
 ],
 "metadata": {
  "kernelspec": {
   "display_name": "Python 3",
   "language": "python",
   "name": "python3"
  },
  "language_info": {
   "codemirror_mode": {
    "name": "ipython",
    "version": 3
   },
   "file_extension": ".py",
   "mimetype": "text/x-python",
   "name": "python",
   "nbconvert_exporter": "python",
   "pygments_lexer": "ipython3",
   "version": "3.8.5"
  }
 },
 "nbformat": 4,
 "nbformat_minor": 4
}
